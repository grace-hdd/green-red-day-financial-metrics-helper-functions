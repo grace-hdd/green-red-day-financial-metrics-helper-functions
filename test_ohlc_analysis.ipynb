{
 "cells": [
  {
   "cell_type": "code",
   "execution_count": 6,
   "id": "2122ab68",
   "metadata": {},
   "outputs": [],
   "source": [
    "import pandas as pd\n",
    "from ohlc_analysis import *"
   ]
  },
  {
   "cell_type": "code",
   "execution_count": 7,
   "id": "21c28820",
   "metadata": {},
   "outputs": [],
   "source": [
    "df = pd.read_csv(\"sample_ohlc_data.csv\")\n"
   ]
  },
  {
   "cell_type": "code",
   "execution_count": 8,
   "id": "9e826de1",
   "metadata": {},
   "outputs": [
    {
     "name": "stdout",
     "output_type": "stream",
     "text": [
      "Day Types:\n",
      "          Date  Open  High  Low  Close  Adj Close  Volume DayType\n",
      "0  2023-01-01   100   105   97    102        102    1342   green\n",
      "1  2023-01-02   102   104  100    101        101    2573     red\n",
      "2  2023-01-03   101   103   99    100        100    4595     red\n",
      "3  2023-01-04    98   100   95     96         96    4271     red\n",
      "4  2023-01-05    99   101   96     97         97    2835     red\n"
     ]
    }
   ],
   "source": [
    "day_types = identify_day_types(df)\n",
    "print(\"Day Types:\\n\", day_types.head())"
   ]
  },
  {
   "cell_type": "code",
   "execution_count": 9,
   "id": "e6ee9dfa",
   "metadata": {},
   "outputs": [
    {
     "name": "stdout",
     "output_type": "stream",
     "text": [
      "First Green Day:\n",
      "   Date  Open  High  Low  Close  Adj Close  Volume\n",
      "0  NaN   NaN   NaN  NaN    NaN        NaN     NaN\n",
      "1  NaN   NaN   NaN  NaN    NaN        NaN     NaN\n",
      "2  NaN   NaN   NaN  NaN    NaN        NaN     NaN\n",
      "3  NaN   NaN   NaN  NaN    NaN        NaN     NaN\n",
      "4  NaN   NaN   NaN  NaN    NaN        NaN     NaN\n"
     ]
    }
   ],
   "source": [
    "green_days = get_green_day_subset(df, day_types)\n",
    "print(\"First Green Day:\\n\", green_days.head())"
   ]
  },
  {
   "cell_type": "code",
   "execution_count": 10,
   "id": "2f5a50bf",
   "metadata": {},
   "outputs": [
    {
     "name": "stdout",
     "output_type": "stream",
     "text": [
      "First Red Day:\n",
      "   Date  Open  High  Low  Close  Adj Close  Volume\n",
      "0  NaN   NaN   NaN  NaN    NaN        NaN     NaN\n",
      "1  NaN   NaN   NaN  NaN    NaN        NaN     NaN\n",
      "2  NaN   NaN   NaN  NaN    NaN        NaN     NaN\n",
      "3  NaN   NaN   NaN  NaN    NaN        NaN     NaN\n",
      "4  NaN   NaN   NaN  NaN    NaN        NaN     NaN\n"
     ]
    }
   ],
   "source": [
    "red_days = get_red_day_subset(df, day_types)\n",
    "print(\"First Red Day:\\n\", red_days.head())\n"
   ]
  },
  {
   "cell_type": "code",
   "execution_count": 11,
   "id": "a43ea5d0",
   "metadata": {},
   "outputs": [
    {
     "name": "stdout",
     "output_type": "stream",
     "text": [
      "Green Day Count: Date         0\n",
      "Open         0\n",
      "High         0\n",
      "Low          0\n",
      "Close        0\n",
      "Adj Close    0\n",
      "Volume       0\n",
      "DayType      3\n",
      "dtype: int64\n"
     ]
    }
   ],
   "source": [
    "green_count = get_green_day_count(day_types)\n",
    "print(\"Green Day Count:\", green_count)"
   ]
  },
  {
   "cell_type": "code",
   "execution_count": 12,
   "id": "5869f748",
   "metadata": {},
   "outputs": [
    {
     "name": "stdout",
     "output_type": "stream",
     "text": [
      "Percentage of Green Days: Date          0.0\n",
      "Open          0.0\n",
      "High          0.0\n",
      "Low           0.0\n",
      "Close         0.0\n",
      "Adj Close     0.0\n",
      "Volume        0.0\n",
      "DayType      30.0\n",
      "dtype: float64 %\n"
     ]
    }
   ],
   "source": [
    "percentage = calculate_percentage(green_count, len(df))\n",
    "print(\"Percentage of Green Days:\", percentage , \"%\")"
   ]
  },
  {
   "cell_type": "code",
   "execution_count": 13,
   "id": "8572cc9e",
   "metadata": {},
   "outputs": [
    {
     "name": "stdout",
     "output_type": "stream",
     "text": [
      "First 5 Daily Returns:\n",
      " 0    0.020000\n",
      "1   -0.009804\n",
      "2   -0.009901\n",
      "3   -0.020408\n",
      "4   -0.020202\n",
      "dtype: float64\n"
     ]
    }
   ],
   "source": [
    "returns = calculate_daily_returns(df)\n",
    "print(\"First 5 Daily Returns:\\n\", returns.head())"
   ]
  },
  {
   "cell_type": "code",
   "execution_count": 14,
   "id": "5bde87b5",
   "metadata": {},
   "outputs": [
    {
     "name": "stdout",
     "output_type": "stream",
     "text": [
      "Average Reutrn: -0.0106\n"
     ]
    }
   ],
   "source": [
    "print(\"Average Reutrn:\", get_avg_return(returns))"
   ]
  },
  {
   "cell_type": "code",
   "execution_count": 15,
   "id": "7243beed",
   "metadata": {},
   "outputs": [
    {
     "name": "stdout",
     "output_type": "stream",
     "text": [
      "Median Return: -0.0099\n"
     ]
    }
   ],
   "source": [
    "print(\"Median Return:\", get_median_return(returns))"
   ]
  },
  {
   "cell_type": "code",
   "execution_count": 16,
   "id": "10dba159",
   "metadata": {},
   "outputs": [
    {
     "name": "stdout",
     "output_type": "stream",
     "text": [
      "Max Return: 0.02\n"
     ]
    }
   ],
   "source": [
    "print(\"Max Return:\", get_max_return(returns))"
   ]
  },
  {
   "cell_type": "code",
   "execution_count": 17,
   "id": "a6d442bd",
   "metadata": {},
   "outputs": [
    {
     "name": "stdout",
     "output_type": "stream",
     "text": [
      "Min Return: -0.0385\n"
     ]
    }
   ],
   "source": [
    "print(\"Min Return:\", get_min_return(returns))"
   ]
  },
  {
   "cell_type": "code",
   "execution_count": 18,
   "id": "44294f20",
   "metadata": {},
   "outputs": [
    {
     "name": "stdout",
     "output_type": "stream",
     "text": [
      "Standard Deviation of Returns: 0.0195\n"
     ]
    }
   ],
   "source": [
    "print(\"Standard Deviation of Returns:\", get_return_std_dev(returns))"
   ]
  },
  {
   "cell_type": "code",
   "execution_count": 19,
   "id": "8c949ad3",
   "metadata": {},
   "outputs": [
    {
     "name": "stdout",
     "output_type": "stream",
     "text": [
      "Empty Test: Empty DataFrame\n",
      "Columns: [Open, Close, DayType]\n",
      "Index: []\n"
     ]
    }
   ],
   "source": [
    "empty_df = pd.DataFrame(columns=['Open', 'Close'])\n",
    "print(\"Empty Test:\", identify_day_types(empty_df))  # Should return empty Series"
   ]
  }
 ],
 "metadata": {
  "kernelspec": {
   "display_name": "Python 3",
   "language": "python",
   "name": "python3"
  },
  "language_info": {
   "codemirror_mode": {
    "name": "ipython",
    "version": 3
   },
   "file_extension": ".py",
   "mimetype": "text/x-python",
   "name": "python",
   "nbconvert_exporter": "python",
   "pygments_lexer": "ipython3",
   "version": "3.13.3"
  }
 },
 "nbformat": 4,
 "nbformat_minor": 5
}
